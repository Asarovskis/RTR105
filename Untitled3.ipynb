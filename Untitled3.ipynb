{
 "cells": [
  {
   "cell_type": "markdown",
   "metadata": {},
   "source": [
    "Laboratorijas darbs - Monte Carlo"
   ]
  },
  {
   "cell_type": "markdown",
   "metadata": {},
   "source": [
    "\n",
    "\n",
    "Dotā funkcija ir (1-x)*exp(-x).\n",
    "\n",
    "No numpy tiek importēta funkcija ranodm\n"
   ]
  },
  {
   "cell_type": "code",
   "execution_count": 1,
   "metadata": {},
   "outputs": [],
   "source": [
    "from numpy import random"
   ]
  },
  {
   "cell_type": "markdown",
   "metadata": {},
   "source": [
    "Tiek izvēlēts skaits punktiem, kurus rādis grafikā."
   ]
  },
  {
   "cell_type": "code",
   "execution_count": 2,
   "metadata": {},
   "outputs": [],
   "source": [
    "N = 5000"
   ]
  },
  {
   "cell_type": "markdown",
   "metadata": {},
   "source": [
    "Noteikts intervāls."
   ]
  },
  {
   "cell_type": "code",
   "execution_count": 3,
   "metadata": {},
   "outputs": [],
   "source": [
    "a = 0\n",
    "b = 5\n"
   ]
  },
  {
   "cell_type": "markdown",
   "metadata": {},
   "source": [
    "Nejauši izvēlas x koordinātas."
   ]
  },
  {
   "cell_type": "code",
   "execution_count": 4,
   "metadata": {},
   "outputs": [],
   "source": [
    "x = random.uniform(a,b,N)"
   ]
  },
  {
   "cell_type": "markdown",
   "metadata": {},
   "source": [
    "Tiek parādīts cik nejauši ir izvēlti punkti. Ja izvēlēta x vērtība ir mazāka par 1, tā tiek ielikta pirmajā intervālā. Ja tā ir lielāka par 1, bet mazāka par divi, to liek otrajā intervālā. utt."
   ]
  },
  {
   "cell_type": "code",
   "execution_count": 5,
   "metadata": {},
   "outputs": [
    {
     "name": "stdout",
     "output_type": "stream",
     "text": [
      "[949, 953, 1001, 1033, 1064]\n"
     ]
    }
   ],
   "source": [
    "k = [0, 0, 0, 0, 0]\n",
    "for i in range(N):\n",
    "    if x[i] < 1:\n",
    "        k[0] = k[0] + 1\n",
    "    elif x[i] < 2:\n",
    "        k[1] = k[1] + 1\n",
    "    elif x[i] < 3:\n",
    "        k[2] = k[2] + 1\n",
    "    elif x[i] < 4:\n",
    "        k[3] = k[3] + 1\n",
    "    else:\n",
    "        k[4] = k[4] + 1\n",
    "print(k)"
   ]
  },
  {
   "cell_type": "markdown",
   "metadata": {},
   "source": [
    "No math tiek importēts exp"
   ]
  },
  {
   "cell_type": "code",
   "execution_count": 6,
   "metadata": {},
   "outputs": [],
   "source": [
    "from math import exp"
   ]
  },
  {
   "cell_type": "markdown",
   "metadata": {},
   "source": [
    "Iegūst nejauši izvēlētas x koordinātas."
   ]
  },
  {
   "cell_type": "code",
   "execution_count": 7,
   "metadata": {},
   "outputs": [],
   "source": [
    "y = random.uniform(a,b,N)"
   ]
  },
  {
   "cell_type": "markdown",
   "metadata": {},
   "source": [
    "No matplotlib importē pyplot kā plt."
   ]
  },
  {
   "cell_type": "code",
   "execution_count": 8,
   "metadata": {},
   "outputs": [],
   "source": [
    "from matplotlib import pyplot as plt"
   ]
  },
  {
   "cell_type": "markdown",
   "metadata": {},
   "source": [
    "Visus nejauši izvēlētos punktus, kas ir mazāki par funkcijas vērtību pie attiecīgā (1-x)*exp(-x), iekrāso zaļā krāsā. Visus pārējos iekrāso sarkanā krāsā."
   ]
  },
  {
   "cell_type": "code",
   "execution_count": null,
   "metadata": {},
   "outputs": [],
   "source": [
    "plt.grid()\n",
    "plt.xlabel('x')\n",
    "plt.ylabel('y')\n",
    "plt.title('Funkcija un taas integraalis (laukums starp funkciju un x ass)')\n",
    "N1 = 0\n",
    "for i in range(N):\n",
    "    if y[i] < ((1-x[i])*exp(-x[i])):\n",
    "        plt.plot(x[i],y[i],'go')\n",
    "        N1 = N1 + 1\n",
    "    else:\n",
    "        plt.plot(x[i],y[i],'ro')\n",
    "plt.show()"
   ]
  },
  {
   "cell_type": "code",
   "execution_count": null,
   "metadata": {},
   "outputs": [],
   "source": []
  },
  {
   "cell_type": "code",
   "execution_count": null,
   "metadata": {},
   "outputs": [],
   "source": []
  }
 ],
 "metadata": {
  "kernelspec": {
   "display_name": "Python 3",
   "language": "python",
   "name": "python3"
  },
  "language_info": {
   "codemirror_mode": {
    "name": "ipython",
    "version": 3
   },
   "file_extension": ".py",
   "mimetype": "text/x-python",
   "name": "python",
   "nbconvert_exporter": "python",
   "pygments_lexer": "ipython3",
   "version": "3.6.7"
  }
 },
 "nbformat": 4,
 "nbformat_minor": 2
}
