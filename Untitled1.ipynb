{
 "cells": [
  {
   "cell_type": "markdown",
   "metadata": {},
   "source": [
    "Laboratorijas darbs - grafika zīmēšana"
   ]
  },
  {
   "cell_type": "markdown",
   "metadata": {},
   "source": [
    "Dotā funkcija ir (1-x)exp*(-x)\n",
    "\n",
    "No numpy tiek importēts linspace, lai veidotu skaitļu masīvu un exp."
   ]
  },
  {
   "cell_type": "code",
   "execution_count": 1,
   "metadata": {},
   "outputs": [],
   "source": [
    "from numpy import linspace, exp"
   ]
  },
  {
   "cell_type": "markdown",
   "metadata": {},
   "source": [
    "Tiek definētas funkcijas no Teilora rindām."
   ]
  },
  {
   "cell_type": "code",
   "execution_count": 2,
   "metadata": {},
   "outputs": [],
   "source": [
    "def f1(x):\n",
    "    return x**1/(2)\n",
    "\n",
    "def f2(x):\n",
    "    return f1(x) * x*x/((2)*(2+1)*2**2)\n",
    "\n",
    "def f3(x):\n",
    "    return f2(x) * x*x/((2*2)*(2*2+1)*2**2)\n",
    "\n",
    "def f4(x):\n",
    "    return f3(x) * x*x/((2*3)*(2*3+1)*2**2)"
   ]
  },
  {
   "cell_type": "markdown",
   "metadata": {},
   "source": [
    "Tiek iegūtas x vērtības, jeb masīvu ar skaitļiem, kas palīdzēs vizualizēt funkcijas grafikus. Definē funkciju y, jeb īsto           (1-x)*exp(-x) funkciju."
   ]
  },
  {
   "cell_type": "code",
   "execution_count": 3,
   "metadata": {},
   "outputs": [],
   "source": [
    "x= linspace(0, 7, 70)\n",
    "y= (1-x)*exp(-x)"
   ]
  },
  {
   "cell_type": "markdown",
   "metadata": {},
   "source": [
    "Tiek piedefinētas jaunizveidotās funkcijas, kuras tika izveidotas ar Teilora rindu palīdzību."
   ]
  },
  {
   "cell_type": "code",
   "execution_count": 4,
   "metadata": {},
   "outputs": [],
   "source": [
    "y1 = f1(x)\n",
    "y2 = f2(x)\n",
    "y3 = f3(x)\n",
    "y4 = f4(x)"
   ]
  },
  {
   "cell_type": "markdown",
   "metadata": {},
   "source": [
    "Piedefinē masīvu, kurš parādīs informāciju par grafikiem."
   ]
  },
  {
   "cell_type": "code",
   "execution_count": 5,
   "metadata": {},
   "outputs": [],
   "source": [
    "legend = []"
   ]
  },
  {
   "cell_type": "markdown",
   "metadata": {},
   "source": [
    "No matplotlib importē pyplot funkciju kā plt."
   ]
  },
  {
   "cell_type": "code",
   "execution_count": 6,
   "metadata": {},
   "outputs": [],
   "source": [
    "from matplotlib import pyplot as plt"
   ]
  },
  {
   "cell_type": "markdown",
   "metadata": {},
   "source": [
    "Ar plt.grid() tiek veidots režģis.\n",
    "\n",
    "Ar plt.xlabel un plt.ylabel tiek izveidoti virsraksti asīm.\n",
    "\n",
    "Ar plt.title tiek veidots virsraksts visam zīmējumam.\n",
    "\n",
    "Ar plt.plot tiek zīmēti attiecīgie grafiki. Ar color tiek katram grafikam piešķirta krāsa.\n",
    "\n",
    "Ar plt.show tiek parādīts beigu rezultāts."
   ]
  },
  {
   "cell_type": "code",
   "execution_count": 7,
   "metadata": {},
   "outputs": [
    {
     "data": {
      "image/png": "[encoded data removed]",
      "text/plain": [
       "<Figure size 432x288 with 1 Axes>"
      ]
     },
     "metadata": {
      "needs_background": "light"
     },
     "output_type": "display_data"
    }
   ],
   "source": [
    "plt.grid()\n",
    "plt.xlabel('x')\n",
    "plt.ylabel('f(x)')\n",
    "plt.title('Funkcija $(1-x)*exp(-x)$ un taas izvirziijumi rindaa')\n",
    "plt.plot(x, y, color = \"#FF0000\")\n",
    "legend.append(\"$(1-x)exp(-x)$\")\n",
    "plt.plot(x,y1,color = \"#FF00FF\")\n",
    "legend.append(\"$f1(x)$\")                    \n",
    "plt.plot(x,y2,color = \"#00FF00\")\n",
    "legend.append(\"$f2(x)$\")\n",
    "plt.plot(x,y3,color = \"#0000FF\")\n",
    "legend.append(\"$f3(x)$\")\n",
    "plt.plot(x,y4,color = \"#00FFFF\")\n",
    "legend.append(\"$f4(x)$\")\n",
    "plt.legend(legend, loc = 2)\n",
    "plt.show()\n",
    "\n",
    "plt.show()"
   ]
  },
  {
   "cell_type": "code",
   "execution_count": null,
   "metadata": {},
   "outputs": [],
   "source": []
  }
 ],
 "metadata": {
  "kernelspec": {
   "display_name": "Python 3",
   "language": "python",
   "name": "python3"
  },
  "language_info": {
   "codemirror_mode": {
    "name": "ipython",
    "version": 3
   },
   "file_extension": ".py",
   "mimetype": "text/x-python",
   "name": "python",
   "nbconvert_exporter": "python",
   "pygments_lexer": "ipython3",
   "version": "3.6.7"
  }
 },
 "nbformat": 4,
 "nbformat_minor": 2
}
