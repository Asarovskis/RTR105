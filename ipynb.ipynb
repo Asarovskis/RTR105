{
 "cells": [
  {
   "cell_type": "markdown",
   "metadata": {},
   "source": [
    "\n",
    "Laboratorijas darbs - saknes meklēšana.\n",
    "\n",
    "Dotā funkcija (1-x)*exp(-x)\n",
    "\n",
    "Tiek importēts exp un moduļa rēķināšanas komanda fabs no math\n",
    "\n",
    "Tiek importēta aizkavēšanas funkcija sleep no time\n"
   ]
  },
  {
   "cell_type": "code",
   "execution_count": 1,
   "metadata": {},
   "outputs": [],
   "source": [
    "from math import exp, fabs\n",
    "from time import sleep"
   ]
  },
  {
   "cell_type": "markdown",
   "metadata": {},
   "source": [
    "Tiek definēta funkcija f(x)"
   ]
  },
  {
   "cell_type": "code",
   "execution_count": 2,
   "metadata": {},
   "outputs": [],
   "source": [
    "def f(x):\n",
    "    return (1-x)*exp(-x)"
   ]
  },
  {
   "cell_type": "markdown",
   "metadata": {},
   "source": [
    "Tiek definēti skaitļi, starp kuriem tiks meklēta sakne"
   ]
  },
  {
   "cell_type": "code",
   "execution_count": 3,
   "metadata": {},
   "outputs": [],
   "source": [
    "a = -0.5\n",
    "b = 3.2"
   ]
  },
  {
   "cell_type": "markdown",
   "metadata": {},
   "source": [
    "Tiek aprēķinātas funkcijas vērtības intervāla galapunktos"
   ]
  },
  {
   "cell_type": "code",
   "execution_count": 4,
   "metadata": {},
   "outputs": [],
   "source": [
    "funa = f(a)\n",
    "funb = f(b)"
   ]
  },
  {
   "cell_type": "markdown",
   "metadata": {},
   "source": [
    "Tiek noteikts vai šajā intervālā vispār ir saknes"
   ]
  },
  {
   "cell_type": "code",
   "execution_count": 5,
   "metadata": {},
   "outputs": [
    {
     "name": "stdout",
     "output_type": "stream",
     "text": [
      "Dotajaa intervaalaa sakne(s) ir!\n"
     ]
    }
   ],
   "source": [
    "if (funa * funb > 0.0):\n",
    "    print(\"Dotajaa intervaalaa [%s, %s] saknju nav\"%(a,b))\n",
    "    sleep(1); exit()  \n",
    "else:\n",
    "    print (\"Dotajaa intervaalaa sakne(s) ir!\")\n"
   ]
  },
  {
   "cell_type": "markdown",
   "metadata": {},
   "source": [
    "Dotajaa intervaalaa sakne(s) ir!\n",
    "\n",
    "Definē precizitāti ar kuru meklēs sakni"
   ]
  },
  {
   "cell_type": "code",
   "execution_count": 6,
   "metadata": {},
   "outputs": [],
   "source": [
    "deltax = 0.01"
   ]
  },
  {
   "cell_type": "markdown",
   "metadata": {},
   "source": [
    "Tiek noteiktas saknes. Tas tiek noteikts cikliski samazinot robežas līdz galapunktu starpība ir mazāka par deltax(precizitāti). Lai noskaidrotu cik reizes vajag sašaurināt intervālu tiek ieviests mainīgais k un pie katras cikla izpildes tam tiek pieskaitīts 1.\n",
    "\n",
    "Argumenta gala vērtība ir abu galapunktu summas dalījums pret 2. Šo vērtibu ievieto dotajā funkcijā. Ja, reizinot to ar funkcijas vērtību intervāla sākumā ir mazāks par 0, tad intervāla galapunkts ir argumenta vērtība. Citādāk sākuma punkts ir argumenta gal vērtība."
   ]
  },
  {
   "cell_type": "code",
   "execution_count": 7,
   "metadata": {},
   "outputs": [],
   "source": [
    "k=0\n",
    "while (fabs (b-a) > deltax ):\n",
    "    k=k + 1\n",
    "    x = (a+b)/2; funx = f(x)\n",
    "    if ( funa*funx < 0. ):\n",
    "        b=x\n",
    "    else:\n",
    "        a=x"
   ]
  },
  {
   "cell_type": "markdown",
   "metadata": {},
   "source": [
    "Aprēķina funkcijas vērtību pie argumenta vērtības."
   ]
  },
  {
   "cell_type": "code",
   "execution_count": 8,
   "metadata": {},
   "outputs": [],
   "source": [
    "deffunk = (1-x)*exp(-x)"
   ]
  },
  {
   "cell_type": "markdown",
   "metadata": {},
   "source": [
    "Izprintē argumenta vērtību, funkcijas vērtību, uz intervāla samazināšanas reižu skaitu."
   ]
  },
  {
   "cell_type": "code",
   "execution_count": 9,
   "metadata": {},
   "outputs": [
    {
     "name": "stdout",
     "output_type": "stream",
     "text": [
      "Sakne ir:  0.9958984375000001\n",
      "Funkcijas vertiiba ir: 0.0015150819973680661\n",
      "Tik reizes vajadzeeja daliit uz puseem 9\n"
     ]
    }
   ],
   "source": [
    "print (\"Sakne ir: \", x)\n",
    "print (\"Funkcijas vertiiba ir:\", deffunk)\n",
    "print (\"Tik reizes vajadzeeja daliit uz puseem\", k)"
   ]
  },
  {
   "cell_type": "code",
   "execution_count": null,
   "metadata": {},
   "outputs": [],
   "source": []
  }
 ],
 "metadata": {
  "kernelspec": {
   "display_name": "Python 3",
   "language": "python",
   "name": "python3"
  },
  "language_info": {
   "codemirror_mode": {
    "name": "ipython",
    "version": 3
   },
   "file_extension": ".py",
   "mimetype": "text/x-python",
   "name": "python",
   "nbconvert_exporter": "python",
   "pygments_lexer": "ipython3",
   "version": "3.6.7"
  }
 },
 "nbformat": 4,
 "nbformat_minor": 2
}
